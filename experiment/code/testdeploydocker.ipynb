{
 "cells": [
  {
   "cell_type": "code",
   "execution_count": 33,
   "metadata": {},
   "outputs": [],
   "source": [
    "import requests\n",
    "import cv2\n",
    "import numpy as np\n",
    "url = 'https://modelprodpre.azurewebsites.net/api/predict?code=4aKN4XII0HtIkk0u1qAYerBUw5Rtw2C4oWx2nEL8z_bVAzFurUBoUQ=='\n",
    "\n",
    "\n",
    "with open(\"../input/video/testvideo.mp4\", \"rb\") as test_file:\n",
    "    # Create a dictionary with file data\n",
    "    files = {'file':  ('testvideo.mp4', test_file.read(), 'video/mp4')}  \n",
    "\n",
    "  \n",
    "    response = requests.post(url, files=files)\n",
    "\n",
    "response_json = response.json()\n",
    "shape = eval(response_json['shape'])\n",
    "response_reshape= np.frombuffer(eval(response_json['predict']), np.uint8).reshape(shape)\n",
    "\n",
    "fourcc = cv2.VideoWriter_fourcc(*'MP4V')  \n",
    "output_video = cv2.VideoWriter(\"../output/video/testvideoapi.mp4\", fourcc, 30.0, (shape[2:0:-1]))    \n",
    "for i in response_reshape:\n",
    "    output_video.write(i)       \n",
    "output_video.release()\n",
    "\n",
    "# with open(\"../input/image/1.jpg\", \"rb\") as test_file:\n",
    "#     # Create a dictionary with file data\n",
    "#     files = {'file':  ('test1.jpg', test_file.read(), 'image/jpeg')}  \n",
    "# response = requests.post(url, files=files)\n",
    "\n",
    "# response_json = response.json()\n",
    "# shape = eval(response_json['shape'])\n",
    "# response_reshape= np.frombuffer(eval(response_json['predict']), np.uint8).reshape(shape)\n",
    "\n",
    "# cv2.imwrite('test.jpg',response_reshape)\n",
    "\n",
    "# response\n"
   ]
  }
 ],
 "metadata": {
  "kernelspec": {
   "display_name": "Python 3",
   "language": "python",
   "name": "python3"
  },
  "language_info": {
   "codemirror_mode": {
    "name": "ipython",
    "version": 3
   },
   "file_extension": ".py",
   "mimetype": "text/x-python",
   "name": "python",
   "nbconvert_exporter": "python",
   "pygments_lexer": "ipython3",
   "version": "3.10.11"
  }
 },
 "nbformat": 4,
 "nbformat_minor": 2
}
