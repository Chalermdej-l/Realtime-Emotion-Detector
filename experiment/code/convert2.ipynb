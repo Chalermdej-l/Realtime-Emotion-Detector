{
 "cells": [
  {
   "cell_type": "code",
   "execution_count": 2,
   "metadata": {},
   "outputs": [],
   "source": [
    "from PIL import Image\n",
    "from glob import glob\n",
    "import os"
   ]
  },
  {
   "cell_type": "code",
   "execution_count": 3,
   "metadata": {},
   "outputs": [],
   "source": [
    "# 1.monitor realtime with call back\n",
    "# 2.save model with check point\n",
    "# 3.save each model in a def with acc and loss to monitor for now\n",
    "# 4.split ata into val to test on the claasifiation report"
   ]
  },
  {
   "cell_type": "code",
   "execution_count": 1,
   "metadata": {},
   "outputs": [
    {
     "ename": "NameError",
     "evalue": "name 'glob' is not defined",
     "output_type": "error",
     "traceback": [
      "\u001b[1;31m---------------------------------------------------------------------------\u001b[0m",
      "\u001b[1;31mNameError\u001b[0m                                 Traceback (most recent call last)",
      "Cell \u001b[1;32mIn[1], line 1\u001b[0m\n\u001b[1;32m----> 1\u001b[0m data_list \u001b[38;5;241m=\u001b[39m \u001b[43mglob\u001b[49m(\u001b[38;5;124m'\u001b[39m\u001b[38;5;124m../data/combine/**/*.jpg\u001b[39m\u001b[38;5;124m'\u001b[39m,recursive\u001b[38;5;241m=\u001b[39m\u001b[38;5;28;01mTrue\u001b[39;00m)\n\u001b[0;32m      2\u001b[0m cat_list \u001b[38;5;241m=\u001b[39m [i\u001b[38;5;241m.\u001b[39mreplace(\u001b[38;5;124m'\u001b[39m\u001b[38;5;124mcombine\u001b[39m\u001b[38;5;124m'\u001b[39m,\u001b[38;5;124m'\u001b[39m\u001b[38;5;124mcombine_convert\u001b[39m\u001b[38;5;124m'\u001b[39m) \u001b[38;5;28;01mfor\u001b[39;00m i \u001b[38;5;129;01min\u001b[39;00m glob(\u001b[38;5;124m'\u001b[39m\u001b[38;5;124m../data/combine/**/**\u001b[39m\u001b[38;5;124m'\u001b[39m)]\n\u001b[0;32m      3\u001b[0m type_list \u001b[38;5;241m=\u001b[39m {}\n",
      "\u001b[1;31mNameError\u001b[0m: name 'glob' is not defined"
     ]
    }
   ],
   "source": [
    "data_list = glob('../data/combine/**/*.jpg',recursive=True)\n",
    "cat_list = [i.replace('combine','combine_convert') for i in glob('../data/combine/**/**')]\n",
    "type_list = {}\n",
    "name = 0\n",
    "file_num =1 "
   ]
  },
  {
   "cell_type": "code",
   "execution_count": 3,
   "metadata": {},
   "outputs": [
    {
     "name": "stdout",
     "output_type": "stream",
     "text": [
      "Current folder ../data/combine_convert\\train\\disgust with 4911\n",
      "Current folder ../data/combine_convert\\train\\fear with 1153\n",
      "Current folder ../data/combine_convert\\train\\happy with 4384\n",
      "Current folder ../data/combine_convert\\train\\neutral with 13781\n",
      "Current folder ../data/combine_convert\\train\\sad with 9677\n",
      "Current folder ../data/combine_convert\\train\\surprise with 9135\n",
      "Current folder ../data/combine_convert\\validation\\angry with 4542\n",
      "Current folder ../data/combine_convert\\validation\\disgust with 1343\n",
      "Current folder ../data/combine_convert\\validation\\fear with 271\n",
      "Current folder ../data/combine_convert\\validation\\happy with 1092\n",
      "Current folder ../data/combine_convert\\validation\\neutral with 3884\n",
      "Current folder ../data/combine_convert\\validation\\sad with 2399\n",
      "Current folder ../data/combine_convert\\validation\\surprise with 1941\n"
     ]
    }
   ],
   "source": [
    "for img in data_list:\n",
    "    img_data =Image.open(img)\n",
    "    img_mode =img_data.mode\n",
    "    img_size =img_data.size\n",
    "\n",
    "    if img_mode != 'L':\n",
    "        img_data = img_data.convert('L')\n",
    "    if img_size != (48,48):\n",
    "        img_data = img_data.resize((48,48))\n",
    "\n",
    "    new_path = img.replace('combine','combine_convert')\n",
    "    check_path = new_path[:new_path.rfind('\\\\')]\n",
    "    if not(os.path.exists(check_path)):\n",
    "        os.makedirs(check_path)\n",
    "    file_new_path =check_path+f'\\\\{file_num}'+'.jpg'\n",
    "\n",
    "    img_data.save(file_new_path)\n",
    "\n",
    "    if check_path == cat_list[name]:\n",
    "        file_num += 1\n",
    "    else:\n",
    "        print(f'Current folder {check_path} with {file_num}')\n",
    "        name +=1\n",
    "        file_num = 1\n",
    "        "
   ]
  },
  {
   "cell_type": "code",
   "execution_count": 5,
   "metadata": {},
   "outputs": [],
   "source": [
    "data_list = glob('../data/combine_convert/**/*.jpg',recursive=True)\n",
    "# cat_list = [i.replace('combine','combine_convert') for i in glob('../data/combine/**/**')]\n",
    "# type_list = {}\n",
    "# name = 0\n",
    "# file_num =1 "
   ]
  },
  {
   "cell_type": "code",
   "execution_count": 6,
   "metadata": {},
   "outputs": [],
   "source": [
    "data_list.sort()"
   ]
  },
  {
   "cell_type": "code",
   "execution_count": 7,
   "metadata": {},
   "outputs": [],
   "source": [
    "cat_list = []\n",
    "for i in data_list:\n",
    "    posone = i.rfind('\\\\')\n",
    "    postwo = i[:posone].rfind('\\\\')\n",
    "    type = i[postwo+1:posone]\n",
    "    cat_list.append(type)"
   ]
  },
  {
   "cell_type": "code",
   "execution_count": 8,
   "metadata": {},
   "outputs": [],
   "source": [
    "from collections import defaultdict\n",
    "import random\n",
    "import shutil\n",
    "cat_dict = defaultdict(list)\n",
    "for i in data_list:\n",
    "    posone = i.rfind('\\\\')\n",
    "    postwo = i[:posone].rfind('\\\\')\n",
    "    type = i[postwo+1:posone]\n",
    "    cat_dict[type].append(i)\n",
    "\n",
    "cat_dict = dict(cat_dict)\n",
    "count_cat = {i:cat_dict[i].__len__() for i in list(cat_dict.keys())}"
   ]
  },
  {
   "cell_type": "code",
   "execution_count": 19,
   "metadata": {},
   "outputs": [],
   "source": [
    "for key in cat_dict.keys():\n",
    "    train_split = round(count_cat[key] *0.7)\n",
    "    # test_split = round(count_cat[key] *0.8)\n",
    "    random.shuffle(cat_dict[key])\n",
    "\n",
    "    train_data = cat_dict[key][:train_split]\n",
    "    for o,i in enumerate(train_data):\n",
    "        copy_path = f'../data/data_split_2/train/{key}'\n",
    "        file_path = f'{o}.jpg'\n",
    "        full_path = os.path.join(copy_path,file_path)\n",
    "        if not(os.path.exists(copy_path)):\n",
    "            os.makedirs(copy_path)\n",
    "        shutil.copy(i,full_path)\n",
    "\n",
    "    test_data = cat_dict[key][train_split:]\n",
    "    for o,i in enumerate(test_data):\n",
    "        copy_path = f'../data/data_split_2/test/{key}'\n",
    "        file_path = f'{o}.jpg'\n",
    "        full_path = os.path.join(copy_path,file_path)\n",
    "        if not(os.path.exists(copy_path)):\n",
    "            os.makedirs(copy_path)\n",
    "\n",
    "        shutil.copy(i,copy_path)\n",
    "    \n",
    "    # val_data = cat_dict[key][test_split:]\n",
    "    # for o,i in enumerate(val_data):\n",
    "    #     copy_path = f'../data/data_split/val/{key}/{o}.jpg'\n",
    "    #     shutil.copy(i,copy_path)\n"
   ]
  }
 ],
 "metadata": {
  "kernelspec": {
   "display_name": "Python 3",
   "language": "python",
   "name": "python3"
  },
  "language_info": {
   "codemirror_mode": {
    "name": "ipython",
    "version": 3
   },
   "file_extension": ".py",
   "mimetype": "text/x-python",
   "name": "python",
   "nbconvert_exporter": "python",
   "pygments_lexer": "ipython3",
   "version": "3.9.7"
  }
 },
 "nbformat": 4,
 "nbformat_minor": 2
}
