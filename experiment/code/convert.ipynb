{
 "cells": [
  {
   "cell_type": "code",
   "execution_count": 1,
   "metadata": {},
   "outputs": [],
   "source": [
    "from PIL import Image\n",
    "from glob import glob\n",
    "import os"
   ]
  },
  {
   "cell_type": "code",
   "execution_count": 2,
   "metadata": {},
   "outputs": [],
   "source": [
    "data_list = glob('../data/combine/**/*.jpg',recursive=True)\n",
    "cat_list = [i.replace('combine','combine_convert') for i in glob('../data/combine/**/**')]\n",
    "type_list = {}\n",
    "name = 0\n",
    "file_num =1 "
   ]
  },
  {
   "cell_type": "code",
   "execution_count": 3,
   "metadata": {},
   "outputs": [
    {
     "name": "stdout",
     "output_type": "stream",
     "text": [
      "Current folder ../data/combine_convert\\train\\disgust with 4911\n",
      "Current folder ../data/combine_convert\\train\\fear with 1153\n",
      "Current folder ../data/combine_convert\\train\\happy with 4384\n",
      "Current folder ../data/combine_convert\\train\\neutral with 13781\n",
      "Current folder ../data/combine_convert\\train\\sad with 9677\n",
      "Current folder ../data/combine_convert\\train\\surprise with 9135\n",
      "Current folder ../data/combine_convert\\validation\\angry with 4542\n",
      "Current folder ../data/combine_convert\\validation\\disgust with 1343\n",
      "Current folder ../data/combine_convert\\validation\\fear with 271\n",
      "Current folder ../data/combine_convert\\validation\\happy with 1092\n",
      "Current folder ../data/combine_convert\\validation\\neutral with 3884\n",
      "Current folder ../data/combine_convert\\validation\\sad with 2399\n",
      "Current folder ../data/combine_convert\\validation\\surprise with 1941\n"
     ]
    }
   ],
   "source": [
    "for img in data_list:\n",
    "    img_data =Image.open(img)\n",
    "    img_mode =img_data.mode\n",
    "    img_size =img_data.size\n",
    "\n",
    "    if img_mode != 'L':\n",
    "        img_data = img_data.convert('L')\n",
    "    if img_size != (48,48):\n",
    "        img_data = img_data.resize((48,48))\n",
    "\n",
    "    new_path = img.replace('combine','combine_convert')\n",
    "    check_path = new_path[:new_path.rfind('\\\\')]\n",
    "    if not(os.path.exists(check_path)):\n",
    "        os.makedirs(check_path)\n",
    "    file_new_path =check_path+f'\\\\{file_num}'+'.jpg'\n",
    "\n",
    "    img_data.save(file_new_path)\n",
    "\n",
    "    if check_path == cat_list[name]:\n",
    "        file_num += 1\n",
    "    else:\n",
    "        print(f'Current folder {check_path} with {file_num}')\n",
    "        name +=1\n",
    "        file_num = 1\n",
    "        "
   ]
  }
 ],
 "metadata": {
  "kernelspec": {
   "display_name": "Python 3",
   "language": "python",
   "name": "python3"
  },
  "language_info": {
   "codemirror_mode": {
    "name": "ipython",
    "version": 3
   },
   "file_extension": ".py",
   "mimetype": "text/x-python",
   "name": "python",
   "nbconvert_exporter": "python",
   "pygments_lexer": "ipython3",
   "version": "3.9.7"
  }
 },
 "nbformat": 4,
 "nbformat_minor": 2
}
