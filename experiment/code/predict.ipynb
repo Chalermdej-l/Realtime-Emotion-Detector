{
 "cells": [
  {
   "cell_type": "code",
   "execution_count": 2,
   "metadata": {},
   "outputs": [],
   "source": [
    "import cv2\n",
    "import pickle\n",
    "import numpy as np\n",
    "import imutils\n",
    "from keras.preprocessing.image import img_to_array\n",
    "import tensorflow as tf\n",
    "from tensorflow import keras\n",
    "# Local experiment"
   ]
  },
  {
   "cell_type": "code",
   "execution_count": 2,
   "metadata": {},
   "outputs": [],
   "source": [
    "def getmodel():\n",
    "    # Open the file in binary mode\n",
    "    model = tf.keras.\n",
    "    with open('../model/finalmodel.h5', 'rb') as file:\n",
    "        # Load the model\n",
    "        model = pickle.load(file)\n",
    "\n",
    "    # Close the file\n",
    "    file.close()"
   ]
  },
  {
   "cell_type": "code",
   "execution_count": 3,
   "metadata": {},
   "outputs": [],
   "source": [
    "type = ['image','video','live']\n",
    "def getdata(type,path=None):\n",
    "\n",
    "    # Input is an image\n",
    "    if type =='image':\n",
    "        data = cv2.imread(path)\n",
    "        image = img_to_array(data)\n",
    "    \n",
    "    # Input is a video\n",
    "    elif type =='video':\n",
    "        data = cv2.VideoCapture(path)\n",
    "\n",
    "    # Input is a live video\n",
    "    else:\n",
    "        data = cv2.VideoCapture(1)\n",
    "    \n",
    "    data = np.array(data, dtype=\"float\") / 255.0"
   ]
  },
  {
   "cell_type": "code",
   "execution_count": 152,
   "metadata": {},
   "outputs": [],
   "source": [
    "detector = cv2.CascadeClassifier('../model/haarcascade/haarcascade_frontalface_default.xml')\n",
    "# detector = cv2.CascadeClassifier('../model/haarcascade/haarcascade_frontalface_alt.xml')"
   ]
  },
  {
   "cell_type": "code",
   "execution_count": 193,
   "metadata": {},
   "outputs": [],
   "source": [
    "# image\n",
    "\n",
    "path = '../data/image/1.jpg'\n",
    "data = cv2.imread(path)\n",
    "\n",
    "data = imutils.resize(data, width=300)\n",
    "grey = cv2.cvtColor(data,cv2.COLOR_BGR2GRAY)\n",
    "\n",
    "# data = img_to_array(data)\n",
    "# data = np.array(data, dtype=\"float\") / 255.0\n",
    "\n",
    "canvas = np.zeros((220, 300, 3), dtype=\"uint8\")\n",
    "frameClone = data.copy()"
   ]
  },
  {
   "cell_type": "code",
   "execution_count": 196,
   "metadata": {},
   "outputs": [
    {
     "name": "stdout",
     "output_type": "stream",
     "text": [
      "[[ 16  36  57  57]\n",
      " [107  25  89  89]]\n"
     ]
    }
   ],
   "source": [
    "rects = detector.detectMultiScale(grey, scaleFactor=1.1,\n",
    "    minNeighbors=13, minSize=(20, 20),\n",
    "    flags=cv2.CASCADE_SCALE_IMAGE)\n",
    "print(rects)\n",
    "if len(rects) > 0:\n",
    "    rect = sorted(rects, reverse=False,\n",
    "    key=lambda x: (x[2] - x[0]) * (x[3] - x[1]))[0]\n",
    "    (fX, fY, fW, fH) = rect \n",
    "\n",
    "    roi = grey[fY:fY + fH, fX:fX + fW]\n",
    "    # roi = cv2.resize(roi, (48, 48))\n",
    "    # roi = roi.astype(\"float\") / 255.0\n",
    "    # roi = img_to_array(roi)\n",
    "    # roi = np.expand_dims(roi, axis=0)\n",
    "    # preds = model.predict(roi)[0]\n",
    "    # label = EMOTIONS[preds.argmax()]\n",
    "\n",
    "    # for (i, (emotion, prob)) in enumerate(zip(EMOTIONS, preds)):\n",
    "    #     # construct the label text\n",
    "    #     text = \"{}: {:.2f}%\".format(emotion, prob * 100)\n",
    "\n",
    "    #     # draw the label + probability bar on the canvas\n",
    "    #     w = int(prob * 300)\n",
    "    #     cv2.rectangle(canvas, (5, (i * 35) + 5),\n",
    "    #     (w, (i * 35) + 35), (0, 0, 255), -1)\n",
    "    #     cv2.putText(canvas, text, (10, (i * 35) + 23),\n",
    "    #     cv2.FONT_HERSHEY_SIMPLEX, 0.45,\n",
    "    #     (255, 255, 255), 2)\n",
    "    cv2.putText(frameClone, 'test', (fX, fY - 10), cv2.FONT_HERSHEY_SIMPLEX, 0.45, (0, 0, 255), 2)\n",
    "    cv2.rectangle(frameClone, (fX, fY), (fX + fW, fY + fH),(0, 0, 255), 2)\n",
    "    cv2.imshow(\"Face\", frameClone)\n",
    "    # cv2.imshow(\"Probabilities\", canvas)\n",
    "    \n",
    "    # if the ’q’ key is pressed, stop the loop\n",
    "    cv2.waitKey(0) \n",
    "    cv2.destroyAllWindows()\n",
    "  "
   ]
  },
  {
   "cell_type": "code",
   "execution_count": 181,
   "metadata": {},
   "outputs": [
    {
     "data": {
      "text/plain": [
       "(168, 300)"
      ]
     },
     "execution_count": 181,
     "metadata": {},
     "output_type": "execute_result"
    }
   ],
   "source": [
    "frameClone.shape"
   ]
  },
  {
   "cell_type": "code",
   "execution_count": 151,
   "metadata": {},
   "outputs": [],
   "source": [
    "rect\n",
    "cv2.imshow('test23',roi)\n",
    "cv2.waitKey(0)\n",
    "cv2.destroyAllWindows()"
   ]
  },
  {
   "cell_type": "code",
   "execution_count": null,
   "metadata": {},
   "outputs": [],
   "source": [
    "# video\n",
    "path = '../data/video/testvideo.mp4'\n",
    "data = cv2.VideoCapture(path)"
   ]
  },
  {
   "cell_type": "code",
   "execution_count": null,
   "metadata": {},
   "outputs": [],
   "source": [
    "while True:\n",
    "    grabbed,frame = data.read()\n",
    "\n",
    "    if not grabbed:\n",
    "        break\n",
    "\n",
    "    frame = imutils.resize(frame,)\n",
    "    "
   ]
  }
 ],
 "metadata": {
  "kernelspec": {
   "display_name": "Python 3",
   "language": "python",
   "name": "python3"
  },
  "language_info": {
   "codemirror_mode": {
    "name": "ipython",
    "version": 3
   },
   "file_extension": ".py",
   "mimetype": "text/x-python",
   "name": "python",
   "nbconvert_exporter": "python",
   "pygments_lexer": "ipython3",
   "version": "3.9.7"
  }
 },
 "nbformat": 4,
 "nbformat_minor": 2
}
