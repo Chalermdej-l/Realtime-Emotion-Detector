{
 "cells": [
  {
   "cell_type": "code",
   "execution_count": 3,
   "metadata": {},
   "outputs": [],
   "source": [
    "import tensorflow as tf\n",
    "from tensorflow import keras\n",
    "from tensorflow.keras.preprocessing.image import ImageDataGenerator\n",
    "import numpy as np\n",
    "from PIL import Image\n",
    "\n",
    "from sklearn.preprocessing import LabelBinarizer\n",
    "from sklearn.metrics import classification_report\n",
    "from sklearn.utils import class_weight\n",
    "\n",
    "from tensorflow.keras.losses import CategoricalCrossentropy,SparseCategoricalCrossentropy\n",
    "from tensorflow.keras import layers\n",
    "from tensorflow.keras import activations\n",
    "from tensorflow.keras import optimizers\n",
    "from tensorflow.keras import losses\n",
    "from tensorflow.keras import metrics\n",
    "from tensorflow.keras import callbacks\n",
    "\n",
    "from keras import backend as K\n",
    "\n",
    "from imutils import paths\n",
    "\n",
    "from tensorflow.keras.utils import img_to_array\n",
    "from sklearn.model_selection import train_test_split\n",
    "from sklearn.preprocessing import LabelBinarizer\n",
    "from keras.utils import np_utils\n",
    "\n",
    "import cv2\n",
    "\n",
    "import os\n",
    "import imutils\n",
    "import glob"
   ]
  },
  {
   "cell_type": "code",
   "execution_count": 146,
   "metadata": {},
   "outputs": [],
   "source": [
    "# load in image\n",
    "# rescale to 48*48\n",
    "# generate more data with shift rotate grey scale?\n",
    "# d = Image.open('.././data/images/train/angry/0.jpg')"
   ]
  },
  {
   "cell_type": "code",
   "execution_count": 147,
   "metadata": {},
   "outputs": [],
   "source": [
    "path= '.././data/2023-12-28/ukdata/utkface_aligned_cropped/UTKFace'\n",
    "ages = []\n",
    "imgs_list = []"
   ]
  },
  {
   "cell_type": "code",
   "execution_count": 148,
   "metadata": {},
   "outputs": [],
   "source": [
    "file_list = glob.glob(path+'/*.jpg')"
   ]
  },
  {
   "cell_type": "code",
   "execution_count": 167,
   "metadata": {},
   "outputs": [],
   "source": [
    "# 1-10: Child\n",
    "# 11-20: Teen\n",
    "# 21-30: Young Adult\n",
    "# 31-40: Middle Ages Adult\n",
    "# 41-50: Senior Adult\n",
    "# 51-70: Old Adult\n",
    "# 71-80: Elderly\n",
    "# 81-100: Very Elderly \n",
    "# 100+ Centenarian\n",
    "\n",
    "def getlabel(age):\n",
    "    if age <11:\n",
    "        label = '1-10'\n",
    "    elif age <21:\n",
    "        label = '11-20'\n",
    "    elif age <31:\n",
    "        label = '21-30'\n",
    "    elif age <41:\n",
    "        label = '31-40'\n",
    "    elif age <51:\n",
    "        label = '41-50'\n",
    "    elif age <71:\n",
    "        label = '51-70'\n",
    "    elif age <81:\n",
    "        label = '71-80'  \n",
    "    else:\n",
    "        label = '81+'\n",
    "    return label\n",
    "def split_path(file_list,type,cat):\n",
    "    \n",
    "    for o,i in enumerate(file_list):\n",
    "\n",
    "        img_data =Image.open(i)\n",
    "        img_mode =img_data.mode\n",
    "        img_size =img_data.size\n",
    "        if img_mode != 'L':\n",
    "            img_data = img_data.convert('L')\n",
    "        if img_size != (48,48):\n",
    "            img_data = img_data.resize((48,48))\n",
    "            \n",
    "        new_path = os.path.join('.././data/age_data_convert/',type,cat,f'{str(o)}.jpg')\n",
    "        check_path = os.path.join('.././data/age_data_convert/',type,cat)\n",
    "        if not(os.path.exists(check_path)):\n",
    "            os.makedirs(check_path)\n",
    "        img_data.save(new_path)"
   ]
  },
  {
   "cell_type": "code",
   "execution_count": 168,
   "metadata": {},
   "outputs": [],
   "source": [
    "cat_dict = {}\n",
    "cat_path = {}\n",
    "for i in file_list:\n",
    "    f_name = i.split(os.path.sep)[-1]\n",
    "    age = int(f_name[:f_name.find('_')])\n",
    "    label =getlabel(age)\n",
    "    count=  cat_dict.get(label,1)\n",
    "    list_cat=  cat_path.get(label,[])\n",
    "    cat_dict[label] = count+1\n",
    "    cat_path[label] = list_cat+ [i]"
   ]
  },
  {
   "cell_type": "code",
   "execution_count": 169,
   "metadata": {},
   "outputs": [],
   "source": [
    "for cat in cat_path.keys():\n",
    "    total_cat = len(cat_path[cat])\n",
    "    train_cat = int(total_cat * 0.7)\n",
    "    split_path(file_list[:train_cat],'train',cat)\n",
    "    split_path(file_list[train_cat:],'test',cat)\n",
    "    "
   ]
  }
 ],
 "metadata": {
  "kernelspec": {
   "display_name": "Python 3",
   "language": "python",
   "name": "python3"
  },
  "language_info": {
   "codemirror_mode": {
    "name": "ipython",
    "version": 3
   },
   "file_extension": ".py",
   "mimetype": "text/x-python",
   "name": "python",
   "nbconvert_exporter": "python",
   "pygments_lexer": "ipython3",
   "version": "3.10.11"
  }
 },
 "nbformat": 4,
 "nbformat_minor": 2
}
