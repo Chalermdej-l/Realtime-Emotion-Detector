{
 "cells": [
  {
   "cell_type": "code",
   "execution_count": null,
   "metadata": {},
   "outputs": [],
   "source": [
    "import tensorflow as tf\n",
    "from tensorflow import keras\n",
    "from tensorflow.keras.preprocessing.image import ImageDataGenerator\n",
    "import numpy as np\n",
    "from PIL import Image\n",
    "\n",
    "from sklearn.preprocessing import LabelBinarizer\n",
    "from sklearn.metrics import classification_report\n",
    "from sklearn.utils import class_weight\n",
    "\n",
    "from tensorflow.keras.losses import CategoricalCrossentropy,SparseCategoricalCrossentropy\n",
    "from tensorflow.keras import layers\n",
    "from tensorflow.keras import activations\n",
    "from tensorflow.keras import optimizers\n",
    "from tensorflow.keras import losses\n",
    "from tensorflow.keras import metrics\n",
    "from tensorflow.keras import callbacks\n",
    "\n",
    "from keras import backend as K\n",
    "\n",
    "from imutils import paths\n",
    "\n",
    "from tensorflow.keras.utils import img_to_array\n",
    "from sklearn.model_selection import train_test_split\n",
    "from sklearn.preprocessing import LabelBinarizer\n",
    "from keras.utils import np_utils\n",
    "\n",
    "import cv2\n",
    "\n",
    "import os\n",
    "import imutils\n",
    "import glob"
   ]
  },
  {
   "cell_type": "code",
   "execution_count": null,
   "metadata": {},
   "outputs": [],
   "source": [
    "# load in image\n",
    "# rescale to 48*48\n",
    "# generate more data with shift rotate grey scale?\n",
    "# d = Image.open('.././data/images/train/angry/0.jpg')"
   ]
  },
  {
   "cell_type": "code",
   "execution_count": 26,
   "metadata": {},
   "outputs": [],
   "source": [
    "path= '.././data/2023-12-28/ukdata/utkface_aligned_cropped/UTKFace'\n",
    "ages = []\n",
    "imgs_list = []"
   ]
  },
  {
   "cell_type": "code",
   "execution_count": 27,
   "metadata": {},
   "outputs": [],
   "source": [
    "file_list = glob.glob(path+'/*.jpg')"
   ]
  },
  {
   "cell_type": "code",
   "execution_count": 28,
   "metadata": {},
   "outputs": [],
   "source": [
    "# 1-10: Child\n",
    "# 11-20: Teen\n",
    "# 21-30: Young Adult\n",
    "# 31-40: Middle Ages Adult\n",
    "# 41-50: Senior Adult\n",
    "# 51-70: Old Adult\n",
    "# 71-80: Elderly\n",
    "# 81-100: Very Elderly \n",
    "# 100+ Centenarian\n",
    "\n",
    "def getlabel(age):\n",
    "    if age <11:\n",
    "        label = '1-10'\n",
    "    elif age <21:\n",
    "        label = '11-20'\n",
    "    elif age <31:\n",
    "        label = '21-30'\n",
    "    elif age <41:\n",
    "        label = '31-40'\n",
    "    elif age <51:\n",
    "        label = '41-50'\n",
    "    elif age <71:\n",
    "        label = '51-70'\n",
    "    elif age <81:\n",
    "        label = '71-80'  \n",
    "    else:\n",
    "        label = '81+'\n",
    "    return label\n",
    "def split_path(file_list,type,cat):\n",
    "    \n",
    "    for o,i in enumerate(file_list):\n",
    "\n",
    "        img_data =Image.open(i)\n",
    "        img_mode =img_data.mode\n",
    "        img_size =img_data.size\n",
    "        if img_mode != 'L':\n",
    "            img_data = img_data.convert('L')\n",
    "        if img_size != (48,48):\n",
    "            img_data = img_data.resize((48,48))\n",
    "            \n",
    "        new_path = os.path.join('.././data/age_data_convert/',type,cat,f'{str(o)}.jpg')\n",
    "        check_path = os.path.join('.././data/age_data_convert/',type,cat)\n",
    "        if not(os.path.exists(check_path)):\n",
    "            os.makedirs(check_path)\n",
    "        img_data.save(new_path)\n",
    "cat_dict = {}\n",
    "cat_path = {}\n",
    "for i in file_list:\n",
    "    f_name = i.split(os.path.sep)[-1]\n",
    "    age = int(f_name[:f_name.find('_')])\n",
    "    label =getlabel(age)\n",
    "    count=  cat_dict.get(label,1)\n",
    "    list_cat=  cat_path.get(label,[])\n",
    "    cat_dict[label] = count+1\n",
    "    cat_path[label] = list_cat+ [i]\n",
    "for cat in cat_path.keys():\n",
    "    total_cat = len(cat_path[cat])\n",
    "    train_cat = int(total_cat * 0.7)\n",
    "    split_path(cat_path[cat][:train_cat],'train',cat)\n",
    "    split_path(cat_path[cat][train_cat:],'test',cat)\n",
    "    "
   ]
  },
  {
   "cell_type": "code",
   "execution_count": null,
   "metadata": {},
   "outputs": [],
   "source": [
    "int(f_name[:f_name.find('_')])"
   ]
  },
  {
   "cell_type": "code",
   "execution_count": null,
   "metadata": {},
   "outputs": [],
   "source": [
    "f_name"
   ]
  },
  {
   "cell_type": "code",
   "execution_count": null,
   "metadata": {},
   "outputs": [],
   "source": [
    "cat_dict = {}\n",
    "cat_path = {}\n",
    "for i in file_list:\n",
    "    i\n",
    "  "
   ]
  },
  {
   "cell_type": "code",
   "execution_count": null,
   "metadata": {},
   "outputs": [],
   "source": [
    "def caloutput(input,filter,stride,padding=0):\n",
    "    # [(W−K+2P)/S]+1.\n",
    "    # W is the input volume \n",
    "    # K is the Kernel size \n",
    "    # P is the padding \n",
    "    # S is the stride    \n",
    "    return ((input-filter+2*padding)/stride)+1"
   ]
  },
  {
   "cell_type": "code",
   "execution_count": null,
   "metadata": {},
   "outputs": [],
   "source": [
    "# 2024-1-1 train age model"
   ]
  },
  {
   "cell_type": "code",
   "execution_count": null,
   "metadata": {},
   "outputs": [],
   "source": [
    "img_generator_train = ImageDataGenerator(rescale=1./255)"
   ]
  },
  {
   "cell_type": "code",
   "execution_count": null,
   "metadata": {},
   "outputs": [],
   "source": [
    "path= '.././data/2023-12-28/ukdata/utkface_aligned_cropped/UTKFace'"
   ]
  },
  {
   "cell_type": "code",
   "execution_count": null,
   "metadata": {},
   "outputs": [],
   "source": [
    "train_path = '.././data/age_data_convert/train'\n",
    "gen_train = img_generator_train.flow_from_directory(train_path,batch_size=128,target_size=(48, 48),color_mode='grayscale')\n",
    "\n",
    "test_path = '.././data/age_data_convert/test'\n",
    "gen_test = img_generator_train.flow_from_directory(test_path,batch_size=128,target_size=(48, 48),color_mode='grayscale')\n",
    "\n",
    "label = list(gen_train.class_indices.keys())"
   ]
  },
  {
   "cell_type": "code",
   "execution_count": null,
   "metadata": {},
   "outputs": [],
   "source": [
    "# model\n",
    "model = keras.Sequential()\n",
    "model.add(layers.Conv2D(32,(3,3),padding=\"same\",kernel_initializer='he_normal',activation='relu',input_shape=(48,48,1)))\n",
    "model.add(layers.BatchNormalization())\n",
    "model.add(layers.Conv2D(32,(3,3),padding=\"same\",kernel_initializer='he_normal',activation='relu'))\n",
    "model.add(layers.BatchNormalization())\n",
    "model.add(layers.MaxPooling2D(pool_size=(2,2)))\n",
    "\n",
    "model.add(layers.Conv2D(64,(3,3),padding=\"same\",kernel_initializer='he_normal',activation='relu'))\n",
    "model.add(layers.BatchNormalization())\n",
    "model.add(layers.Conv2D(64,(3,3),padding=\"same\",kernel_initializer='he_normal',activation='relu'))\n",
    "model.add(layers.BatchNormalization())\n",
    "model.add(layers.MaxPooling2D(pool_size=(2,2)))\n",
    "\n",
    "model.add(layers.Flatten())\n",
    "model.add(layers.Dense(128,activation='relu'))\n",
    "model.add(layers.Dropout(0.5))\n",
    "model.add(layers.Dense(len(label),activation='softmax'))\n"
   ]
  },
  {
   "cell_type": "code",
   "execution_count": null,
   "metadata": {},
   "outputs": [],
   "source": [
    "los = keras.losses.CategoricalCrossentropy()\n",
    "acc = keras.metrics.CategoricalAccuracy()\n",
    "opt = optimizers.Adam(learning_rate=0.01)\n",
    "epoch = 40\n",
    "model.compile(optimizer=opt,loss=los,metrics=[acc])"
   ]
  },
  {
   "cell_type": "code",
   "execution_count": null,
   "metadata": {},
   "outputs": [],
   "source": [
    "model.fit(gen_train,validation_data=gen_test,epochs=epoch)"
   ]
  },
  {
   "cell_type": "code",
   "execution_count": null,
   "metadata": {},
   "outputs": [],
   "source": []
  }
 ],
 "metadata": {
  "kernelspec": {
   "display_name": "Python 3",
   "language": "python",
   "name": "python3"
  },
  "language_info": {
   "codemirror_mode": {
    "name": "ipython",
    "version": 3
   },
   "file_extension": ".py",
   "mimetype": "text/x-python",
   "name": "python",
   "nbconvert_exporter": "python",
   "pygments_lexer": "ipython3",
   "version": "3.10.11"
  }
 },
 "nbformat": 4,
 "nbformat_minor": 2
}
