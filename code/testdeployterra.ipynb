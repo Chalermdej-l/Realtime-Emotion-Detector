{
 "cells": [
  {
   "cell_type": "code",
   "execution_count": 1,
   "metadata": {},
   "outputs": [],
   "source": [
    "import requests\n",
    "import cv2\n",
    "import numpy as np\n",
    "url = 'https://analysis-prediction.azurewebsites.net/api/predict?code=0FqBWvnOFRNjwQQVGN5khU0fCqlAMZStfztWglDA5jsTAzFuSGDXpw=='\n",
    "\n",
    "import glob\n",
    "import os\n",
    "test_img_list = glob.glob('../input/image/*.jpg',recursive=True)"
   ]
  },
  {
   "cell_type": "code",
   "execution_count": 2,
   "metadata": {},
   "outputs": [
    {
     "name": "stdout",
     "output_type": "stream",
     "text": [
      "200\n",
      "200\n",
      "200\n",
      "200\n",
      "200\n",
      "200\n",
      "200\n",
      "200\n",
      "200\n"
     ]
    }
   ],
   "source": [
    "for img in test_img_list:\n",
    "    with open(img, \"rb\") as test_file:\n",
    "        # Create a dictionary with file data\n",
    "        files = {'file':  ('test1.jpg', test_file.read(), 'image/jpeg')}  \n",
    "    response = requests.post(url, files=files)\n",
    "    print(response.status_code)\n",
    "    filename=  os.path.split(img)[-1]\n",
    "    response_json = response.json()\n",
    "    shape = eval(response_json['shape'])\n",
    "    response_reshape= np.frombuffer(eval(response_json['predict']), np.uint8).reshape(shape)\n",
    "    new_path = os.path.sep.join(['../output/img',filename])\n",
    "    cv2.imwrite(new_path,response_reshape)"
   ]
  }
 ],
 "metadata": {
  "kernelspec": {
   "display_name": "Python 3",
   "language": "python",
   "name": "python3"
  },
  "language_info": {
   "codemirror_mode": {
    "name": "ipython",
    "version": 3
   },
   "file_extension": ".py",
   "mimetype": "text/x-python",
   "name": "python",
   "nbconvert_exporter": "python",
   "pygments_lexer": "ipython3",
   "version": "3.10.11"
  }
 },
 "nbformat": 4,
 "nbformat_minor": 2
}
