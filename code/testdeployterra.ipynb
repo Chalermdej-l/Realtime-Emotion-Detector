{
 "cells": [
  {
   "cell_type": "code",
   "execution_count": 1,
   "metadata": {},
   "outputs": [],
   "source": [
    "import requests\n",
    "import cv2\n",
    "import numpy as np\n",
    "import glob\n",
    "import os\n",
    "\n",
    "url = 'https://analysis-prediction.azurewebsites.net/api/predict?code=4zr2xNc-Ywwra5IgMDLIi6hy5bT9dXCkoVfpKy9cr4MAAzFuYzcxkw=='"
   ]
  },
  {
   "cell_type": "code",
   "execution_count": 2,
   "metadata": {},
   "outputs": [
    {
     "name": "stdout",
     "output_type": "stream",
     "text": [
      "200\n",
      "200\n",
      "200\n",
      "200\n",
      "200\n",
      "200\n",
      "200\n",
      "200\n",
      "200\n"
     ]
    }
   ],
   "source": [
    "\n",
    "test_img_list = glob.glob('../input/image/*.jpg',recursive=True)\n",
    "for img in test_img_list:\n",
    "    print(img)\n",
    "    with open(img, \"rb\") as test_file:\n",
    "        # Create a dictionary with file data\n",
    "        files = {'file':  ('test1.jpg', test_file.read(), 'image/jpeg')}  \n",
    "    response = requests.post(url, files=files)\n",
    "    print(response.status_code)\n",
    "    filename=  os.path.split(img)[-1]\n",
    "    response_json = response.json()\n",
    "    shape = eval(response_json['shape'])\n",
    "    response_reshape= np.frombuffer(eval(response_json['predict']), np.uint8).reshape(shape)\n",
    "    new_path = os.path.sep.join(['../output/img',filename])\n",
    "    cv2.imwrite(new_path,response_reshape)"
   ]
  },
  {
   "cell_type": "code",
   "execution_count": null,
   "metadata": {},
   "outputs": [],
   "source": [
    "test_vid_list = glob.glob('../input/video/*.mp4',recursive=True)\n",
    "for vid in test_vid_list:\n",
    "    print(vid)\n",
    "    with open(vid, \"rb\") as test_file:\n",
    "        # Create a dictionary with file data\n",
    "        files = {'file':  ('testvideo.mp4', test_file.read(), 'video/mp4')}  \n",
    "    \n",
    "        response = requests.post(url, files=files)\n",
    "    print(response.status_code)\n",
    "    response_json = response.json()\n",
    "    shape = eval(response_json['shape'])\n",
    "    response_reshape= np.frombuffer(eval(response_json['predict']), np.uint8).reshape(shape)\n",
    "\n",
    "    fourcc = cv2.VideoWriter_fourcc(*'MP4V')  \n",
    "    output_video = cv2.VideoWriter(\"../output/video/testvideoapi.mp4\", fourcc, 30.0, (shape[2:0:-1]))    \n",
    "    for i in response_reshape:\n",
    "        output_video.write(i)       \n",
    "    output_video.release()"
   ]
  }
 ],
 "metadata": {
  "kernelspec": {
   "display_name": "Python 3",
   "language": "python",
   "name": "python3"
  },
  "language_info": {
   "codemirror_mode": {
    "name": "ipython",
    "version": 3
   },
   "file_extension": ".py",
   "mimetype": "text/x-python",
   "name": "python",
   "nbconvert_exporter": "python",
   "pygments_lexer": "ipython3",
   "version": "3.10.11"
  }
 },
 "nbformat": 4,
 "nbformat_minor": 2
}
